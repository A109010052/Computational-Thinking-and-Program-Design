{
  "nbformat": 4,
  "nbformat_minor": 0,
  "metadata": {
    "colab": {
      "name": "「楊怡萱-week4-練習作業.ipynb」的副本",
      "provenance": [],
      "authorship_tag": "ABX9TyNxovfSmQkEsGODbisc04MT",
      "include_colab_link": true
    },
    "kernelspec": {
      "name": "python3",
      "display_name": "Python 3"
    }
  },
  "cells": [
    {
      "cell_type": "markdown",
      "metadata": {
        "id": "view-in-github",
        "colab_type": "text"
      },
      "source": [
        "<a href=\"https://colab.research.google.com/github/A109010052/Computational-Thinking-and-Program-Design/blob/main/%E3%80%8C%E6%A5%8A%E6%80%A1%E8%90%B1_week4_%E7%B7%B4%E7%BF%92%E4%BD%9C%E6%A5%AD_ipynb%E3%80%8D%E7%9A%84%E5%89%AF%E6%9C%AC.ipynb\" target=\"_parent\"><img src=\"https://colab.research.google.com/assets/colab-badge.svg\" alt=\"Open In Colab\"/></a>"
      ]
    },
    {
      "cell_type": "markdown",
      "metadata": {
        "id": "uL-OzfFkXvbB"
      },
      "source": [
        "#隨堂練習"
      ]
    },
    {
      "cell_type": "code",
      "metadata": {
        "id": "OysBrdraXzVM"
      },
      "source": [
        ""
      ],
      "execution_count": null,
      "outputs": []
    },
    {
      "cell_type": "markdown",
      "metadata": {
        "id": "pUAfPpBBX6O9"
      },
      "source": [
        "#課後練習\r\n",
        "(1)隨堂練習為各單元重點摘要，(2)課後練習則為從一則新聞報導，提出你對新聞系（OO系）學生為什麼要學「運算思維與程式設計」的見解。（告訴我新聞連結，以及你的觀點即可。）\r\n"
      ]
    },
    {
      "cell_type": "markdown",
      "metadata": {
        "id": "lq91dctKa3Ft"
      },
      "source": [
        "[連結文字](https://)https://colab.research.google.com/drive/1I7kqxja3bak8ZXDwzEHX-e4O5hheFrV-#scrollTo=pUAfPpBBX6O9&line=3&uniqifier=1"
      ]
    },
    {
      "cell_type": "markdown",
      "metadata": {
        "id": "LcM1AOg5a5N6"
      },
      "source": [
        "我覺得多學會一種工具，會使我們在從事新聞工作的時候更有效率。\r\n",
        "ex:大選開票結果，可以不用跟工程師拿即時分析資料，運用已學會的資料處理能力製作圖表等。"
      ]
    },
    {
      "cell_type": "code",
      "metadata": {
        "id": "MPBCk8V3Zzv6"
      },
      "source": [
        " "
      ],
      "execution_count": null,
      "outputs": []
    }
  ]
}